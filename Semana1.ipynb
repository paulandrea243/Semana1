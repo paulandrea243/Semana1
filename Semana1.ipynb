{
  "nbformat": 4,
  "nbformat_minor": 0,
  "metadata": {
    "colab": {
      "provenance": [],
      "authorship_tag": "ABX9TyOWSP4yDwO49X1s6pMXhdNf",
      "include_colab_link": true
    },
    "kernelspec": {
      "name": "python3",
      "display_name": "Python 3"
    },
    "language_info": {
      "name": "python"
    }
  },
  "cells": [
    {
      "cell_type": "markdown",
      "metadata": {
        "id": "view-in-github",
        "colab_type": "text"
      },
      "source": [
        "<a href=\"https://colab.research.google.com/github/paulandrea243/Semana1/blob/main/Semana1.ipynb\" target=\"_parent\"><img src=\"https://colab.research.google.com/assets/colab-badge.svg\" alt=\"Open In Colab\"/></a>"
      ]
    },
    {
      "cell_type": "code",
      "execution_count": 1,
      "metadata": {
        "colab": {
          "base_uri": "https://localhost:8080/"
        },
        "id": "qlzsNPqN7Mlr",
        "outputId": "2fdef546-b70d-42bc-f92d-424434cdd1c1"
      },
      "outputs": [
        {
          "output_type": "stream",
          "name": "stdout",
          "text": [
            "Datos del Estudiante:\n",
            "Nombre: Juan Pérez\n",
            "Edad: 20 años\n",
            "¿Cuál es tu asignatura favorita? Programacion\n",
            "¡Qué bien! Tu asignatura favorita es Programacion.\n"
          ]
        }
      ],
      "source": [
        "# 1. Variables y tipos de datos\n",
        "nombre_estudiante = \"Juan Pérez\"\n",
        "edad = 20\n",
        "promedio = 4.2\n",
        "es_regular = True\n",
        "# 2. La función print() para mostrar información\n",
        "print(\"Datos del Estudiante:\")\n",
        "print(\"Nombre:\", nombre_estudiante)\n",
        "print(f\"Edad: {edad} años\") # Usando f-strings, una forma moderna y útil\n",
        "# 3. La función input() para recibir datos del usuario\n",
        "asignatura_favorita = input(\"¿Cuál es tu asignatura favorita? \")\n",
        "print(f\"¡Qué bien! Tu asignatura favorita es {asignatura_favorita}.\")"
      ]
    },
    {
      "cell_type": "code",
      "source": [
        "# 4. Operaciones aritméticas básicas con variables\n",
        "num1 = 25\n",
        "num2 = 5\n",
        "\n",
        "suma = num1 + num2\n",
        "resta = num1 - num2\n",
        "multiplicacion = num1 * num2\n",
        "division = num1 / num2\n",
        "\n",
        "print(f\"Número 1: {num1}\")\n",
        "print(f\"Número 2: {num2}\")\n",
        "print(f\"Suma: {suma}\")\n",
        "print(f\"Resta: {resta}\")\n",
        "print(f\"Multiplicación: {multiplicacion}\")\n",
        "print(f\"División: {division}\")"
      ],
      "metadata": {
        "colab": {
          "base_uri": "https://localhost:8080/"
        },
        "id": "GVGbTfMMCkb4",
        "outputId": "5544034c-0d93-448a-d3fc-051a0eec8792"
      },
      "execution_count": 2,
      "outputs": [
        {
          "output_type": "stream",
          "name": "stdout",
          "text": [
            "Número 1: 25\n",
            "Número 2: 5\n",
            "Suma: 30\n",
            "Resta: 20\n",
            "Multiplicación: 125\n",
            "División: 5.0\n"
          ]
        }
      ]
    }
  ]
}